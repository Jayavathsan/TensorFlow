{
  "nbformat": 4,
  "nbformat_minor": 0,
  "metadata": {
    "colab": {
      "private_outputs": true,
      "provenance": [],
      "authorship_tag": "ABX9TyNuYXbqxyaQtGZNPBTwe/e+",
      "include_colab_link": true
    },
    "kernelspec": {
      "name": "python3",
      "display_name": "Python 3"
    },
    "language_info": {
      "name": "python"
    }
  },
  "cells": [
    {
      "cell_type": "markdown",
      "metadata": {
        "id": "view-in-github",
        "colab_type": "text"
      },
      "source": [
        "<a href=\"https://colab.research.google.com/github/Jayavathsan/TensorFlow/blob/main/Convolution.ipynb\" target=\"_parent\"><img src=\"https://colab.research.google.com/assets/colab-badge.svg\" alt=\"Open In Colab\"/></a>"
      ]
    },
    {
      "cell_type": "code",
      "execution_count": null,
      "metadata": {
        "id": "DKzeW-qg8Sfl"
      },
      "outputs": [],
      "source": [
        "matrix1 = [1,1,1,1,1]\n",
        "filter = [1,1,1]\n",
        "padding = 0\n",
        "stride = 1\n",
        "result ="
      ]
    },
    {
      "cell_type": "markdown",
      "source": [
        "padding value n will be added as rows and columns to the matrix1 (i,j)\n",
        "\n",
        "filter(i1, j1) will be a matrix which will be multiplied with the same sized sub matrix of the matrix 1 (i,j) which is matrix1(i1, j1)\n",
        "\n",
        "then stride will be applied row wise first matrix1(i1+stride, j1)\n",
        "\n",
        "looped till it reaches the end of the columns in the row including the padding value\n",
        "\n",
        "then looped for the rows going down for completing all the rows till end including the padded value"
      ],
      "metadata": {
        "id": "1J4MjKUnCQyM"
      }
    },
    {
      "cell_type": "code",
      "source": [
        "import numpy as np\n",
        "from numpy import random"
      ],
      "metadata": {
        "id": "QkOkGmnoDgoa"
      },
      "execution_count": null,
      "outputs": []
    },
    {
      "cell_type": "code",
      "source": [
        "matrix1 = random.randint(10, size=(6, 6))"
      ],
      "metadata": {
        "id": "CX6aDOOUDiqf"
      },
      "execution_count": null,
      "outputs": []
    },
    {
      "cell_type": "code",
      "source": [
        "print(matrix1)"
      ],
      "metadata": {
        "id": "vIzWw1X6EXfE"
      },
      "execution_count": null,
      "outputs": []
    },
    {
      "cell_type": "code",
      "source": [
        "filter = random.randint(2, size=(3, 3))"
      ],
      "metadata": {
        "id": "jg8pHo9NEZsN"
      },
      "execution_count": null,
      "outputs": []
    },
    {
      "cell_type": "code",
      "source": [
        "print(filter)"
      ],
      "metadata": {
        "id": "jfpgXNw3Ej88"
      },
      "execution_count": null,
      "outputs": []
    },
    {
      "cell_type": "code",
      "source": [],
      "metadata": {
        "id": "uZtANQQ-VJTC"
      },
      "execution_count": null,
      "outputs": []
    },
    {
      "cell_type": "code",
      "source": [
        "matrix1 = np.pad(matrix1, pad_width=1, mode='constant', constant_values=0)"
      ],
      "metadata": {
        "id": "TRS5lpdwElRO"
      },
      "execution_count": null,
      "outputs": []
    },
    {
      "cell_type": "code",
      "source": [
        "print(matrix1)"
      ],
      "metadata": {
        "id": "WQtdQmv1F2DO"
      },
      "execution_count": null,
      "outputs": []
    },
    {
      "cell_type": "code",
      "source": [
        "resultMatrix = np.zeros((5,5))\n",
        "print(resultMatrix)"
      ],
      "metadata": {
        "id": "HfYEDF3IFhoH"
      },
      "execution_count": null,
      "outputs": []
    },
    {
      "cell_type": "code",
      "source": [
        "stride = 1"
      ],
      "metadata": {
        "id": "IXxDlJ_DGSMl"
      },
      "execution_count": null,
      "outputs": []
    },
    {
      "cell_type": "code",
      "source": [
        "print(matrix1)"
      ],
      "metadata": {
        "id": "H4GjzvuFH5kv"
      },
      "execution_count": null,
      "outputs": []
    },
    {
      "cell_type": "code",
      "source": [
        "submatrix = np.zeros((3,3))"
      ],
      "metadata": {
        "id": "KwuGYDRVFZST"
      },
      "execution_count": null,
      "outputs": []
    },
    {
      "cell_type": "code",
      "source": [
        "print(submatrix.shape)\n",
        "print(submatrix)"
      ],
      "metadata": {
        "id": "rctkIpzBJTps"
      },
      "execution_count": null,
      "outputs": []
    },
    {
      "cell_type": "code",
      "source": [
        "submatrix = matrix1[:3,:3]\n",
        "print(submatrix)\n",
        "print(submatrix.shape)"
      ],
      "metadata": {
        "id": "wja_jpIkLIIT"
      },
      "execution_count": null,
      "outputs": []
    },
    {
      "cell_type": "code",
      "source": [
        "num1 = 0\n",
        "num2 = 5"
      ],
      "metadata": {
        "id": "r7CW6gQJJonQ"
      },
      "execution_count": null,
      "outputs": []
    },
    {
      "cell_type": "code",
      "source": [
        "len1 = []\n",
        "len2 = []\n",
        "for i1 in range(0, 3):\n",
        "  submatrix = matrix1[:3, :3]\n",
        "\n",
        "print(submatrix.shape)"
      ],
      "metadata": {
        "id": "9g3m0RddKCeA"
      },
      "execution_count": null,
      "outputs": []
    },
    {
      "cell_type": "code",
      "source": [
        "result = np.zeros((5,5))\n",
        "print(result)"
      ],
      "metadata": {
        "id": "X4jor11uNawb"
      },
      "execution_count": null,
      "outputs": []
    },
    {
      "cell_type": "code",
      "source": [
        "for i in range(0,num1):\n",
        "    for j in range(0,num2):\n",
        "        submatrix = matrix1[i:i+3, j:j+3]\n",
        "        result[i][j] = np.sum(submatrix * filter[:, :])"
      ],
      "metadata": {
        "id": "9EvYddnBHCKa"
      },
      "execution_count": null,
      "outputs": []
    },
    {
      "cell_type": "code",
      "source": [
        "print(result)"
      ],
      "metadata": {
        "id": "4EiXJI7sHvUR"
      },
      "execution_count": null,
      "outputs": []
    },
    {
      "cell_type": "code",
      "source": [
        "matrix2 = [[4, 9, 2, 5, 8, 3],\n",
        "    [5, 6, 2, 4, 0, 3],\n",
        "    [2, 4, 5, 4, 5, 2],\n",
        "    [5, 6, 5, 4, 7, 8],\n",
        "    [5, 7, 7, 9, 2, 1],\n",
        "    [5, 8, 5, 3, 8, 4]]\n",
        "\n",
        "matrix2 = np.array(matrix2)\n",
        "\n",
        "filter2 = [[1,0,-1],\n",
        "           [1,0,-1],\n",
        "           [1,0,-1]]\n",
        "\n",
        "filter2 = np.array(filter2)"
      ],
      "metadata": {
        "id": "IzPDAwhhTdS1"
      },
      "execution_count": null,
      "outputs": []
    },
    {
      "cell_type": "code",
      "source": [
        "result2 = np.zeros((4,4))\n",
        "print(result2)"
      ],
      "metadata": {
        "id": "EPqglJUxUpRj"
      },
      "execution_count": null,
      "outputs": []
    },
    {
      "cell_type": "code",
      "source": [
        "submatrix2 = np.zeros((3,3))\n",
        "print(submatrix2)"
      ],
      "metadata": {
        "id": "N2OvsIdDVbGR"
      },
      "execution_count": null,
      "outputs": []
    },
    {
      "cell_type": "markdown",
      "source": [
        "i totally didnt add the padding into my calculations! thank you for the heads up"
      ],
      "metadata": {
        "id": "Jo8qtPxCnqi5"
      }
    },
    {
      "cell_type": "code",
      "source": [
        "for i in range(0, 4):\n",
        "    for j in range(0, 4):\n",
        "        submatrix2 = matrix2[i:i+3, j:j+3]\n",
        "        result2[i][j] = np.sum(submatrix2 * filter2)\n",
        "\n",
        "print(result2)"
      ],
      "metadata": {
        "id": "_nsXeAu-Wrw_"
      },
      "execution_count": null,
      "outputs": []
    },
    {
      "cell_type": "markdown",
      "source": [
        "function for nxnxn matrix with function and dynamic values\n"
      ],
      "metadata": {
        "id": "FTRrrUH8ibmU"
      }
    },
    {
      "cell_type": "code",
      "source": [
        "rows = 6\n",
        "columns = 6\n",
        "channels = 3\n",
        "filterRows = 3\n",
        "filterColumns = 3\n",
        "padding = 0\n",
        "stride = 1\n",
        "\n",
        "def convolution():\n",
        "    givenSize = np.random.randint(0, 10, size=(rows, columns, channels))\n",
        "    filterSize = np.random.randint(-2, 3, size=(filterRows, filterColumns, channels))\n",
        "    paddedIn = np.pad(givenSize, pad_width=((padding, padding), (padding, padding), (0, 0)), mode='constant', constant_values=0)\n",
        "    rows_padded, columns_padded, _ = paddedIn.shape\n",
        "    resultRows = (rows_padded - filterRows) // stride + 1\n",
        "    resultColumns = (columns_padded - filterColumns) // stride + 1\n",
        "    result3 = np.zeros((resultRows, resultColumns))\n",
        "\n",
        "    for i in range(0, resultRows):\n",
        "        for j in range(0, resultColumns):\n",
        "            totalSum = 0\n",
        "            for i1 in range(channels):\n",
        "                startRow = i * stride\n",
        "                startColumn = j * stride\n",
        "                givenShape = paddedIn[startRow:startRow + filterRows, startColumn:startColumn + filterColumns, i1]\n",
        "                totalSum += np.sum(givenShape * filterSize[:, :, i1])\n",
        "            result3[i, j] = totalSum\n",
        "\n",
        "    return result3, givenSize, filterSize\n",
        "\n",
        "result3, givenSize, filterSize = convolution()\n",
        "print(f\"givenSize is \",givenSize)\n",
        "print(f\"filterSize is \",filterSize)\n",
        "print(f\"result3) is \",result3)\n"
      ],
      "metadata": {
        "id": "q6bJCWdeiNV8"
      },
      "execution_count": null,
      "outputs": []
    },
    {
      "cell_type": "markdown",
      "source": [
        "filter of 3x3x2 for an input of 6x6x3 is possible by having strides over the third dimension but i dont know how what good it would do or if it would perform well but possible because if moving the filter in y axis is possible then moving it in z axis would also be possible. I am sorry if i sound as if i am trying to prove it right but i genuinely thought about it and wanted to know if it would work, it seems to work. Thank you"
      ],
      "metadata": {
        "id": "BLo9FdVKoyaA"
      }
    },
    {
      "cell_type": "code",
      "source": [
        "rows = 6\n",
        "columns = 6\n",
        "channels = 3\n",
        "filterRows = 3\n",
        "filterColumns = 3\n",
        "filterChannels = 2\n",
        "padding = 0\n",
        "stride = 1\n",
        "\n",
        "def convolutionNew1():\n",
        "    givenSize2 = np.random.randint(0, 10, size=(rows, columns, channels))\n",
        "    filterSize2 = np.random.randint(-2, 3, size=(filterRows, filterColumns, filterChannels))\n",
        "\n",
        "    paddedIn = np.pad(givenSize, pad_width=((padding, padding), (padding, padding), (0, 0)), mode='constant', constant_values=0)\n",
        "\n",
        "    rows_padded, columns_padded, _ = paddedIn.shape\n",
        "    resultRows = (rows_padded - filterRows) // stride + 1\n",
        "    resultColumns = (columns_padded - filterColumns) // stride + 1\n",
        "\n",
        "    resultMatrix = []\n",
        "\n",
        "    for i in range(channels - 1):\n",
        "        result4 = np.zeros((resultRows, resultColumns))\n",
        "\n",
        "        for i1 in range(0, resultRows):\n",
        "            for j in range(0, resultColumns):\n",
        "                startRow = i * stride\n",
        "                startColumn = j * stride\n",
        "\n",
        "                # Extract regions for two consecutive channels\n",
        "                givenShape1 = paddedIn[startRow:startRow + filterRows, startColumn:startColumn + filterColumns, i]\n",
        "                givenShape2 = paddedIn[startRow:startRow + filterRows, startColumn:startColumn + filterColumns, i + 1]\n",
        "\n",
        "                # Apply filter and sum results\n",
        "                totalSum = np.sum(givenShape1 * filterSize[:, :, 0]) + np.sum(givenShape2 * filterSize[:, :, 1])\n",
        "                result4[i, j] = totalSum\n",
        "\n",
        "        resultMatrix.append(result4)\n",
        "\n",
        "    resultMaps = np.stack(resultMatrix, axis=-1)\n",
        "    return resultMaps, givenSize, filterSize\n",
        "\n",
        "result4, givenSize2, filterSize2 = convolutionNew1()\n",
        "\n",
        "print(f\"givenSize is \", givenSize2)\n",
        "print(f\"filterSize is \", filterSize2)\n",
        "print(f\"result3 is \", result4)\n"
      ],
      "metadata": {
        "id": "0MTf6q05opCo"
      },
      "execution_count": null,
      "outputs": []
    },
    {
      "cell_type": "code",
      "source": [],
      "metadata": {
        "id": "UyjdOV0HsTaH"
      },
      "execution_count": null,
      "outputs": []
    }
  ]
}